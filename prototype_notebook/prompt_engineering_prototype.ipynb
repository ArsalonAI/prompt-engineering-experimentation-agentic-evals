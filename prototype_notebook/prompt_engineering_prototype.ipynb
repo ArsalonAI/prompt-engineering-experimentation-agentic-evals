{
 "cells": [
  {
   "cell_type": "code",
   "execution_count": 1,
   "metadata": {},
   "outputs": [
    {
     "name": "stdout",
     "output_type": "stream",
     "text": [
      "New API key loaded: **********************************************sYdw\n"
     ]
    }
   ],
   "source": [
    "# Clear existing environment variables\n",
    "import os\n",
    "os.environ.pop('TOGETHER_API_KEY', None)  # Remove existing key\n",
    "\n",
    "# Force reload from .env file\n",
    "from dotenv import load_dotenv\n",
    "load_dotenv(override=True)  # override=True forces reload\n",
    "\n",
    "# Reinitialize Together client\n",
    "import together\n",
    "together.api_key = os.getenv('TOGETHER_API_KEY')\n",
    "\n",
    "# Verify the new key is loaded\n",
    "print(f\"New API key loaded: {'*' * (len(os.getenv('TOGETHER_API_KEY', '')) - 4) + (os.getenv('TOGETHER_API_KEY', '')[-4:] if os.getenv('TOGETHER_API_KEY') else 'None')}\")"
   ]
  },
  {
   "cell_type": "code",
   "execution_count": 2,
   "metadata": {},
   "outputs": [],
   "source": [
    "# import model_util helper functions\n",
    "from model_utils import init_wandb, track_experiment"
   ]
  },
  {
   "cell_type": "code",
   "execution_count": 3,
   "metadata": {},
   "outputs": [
    {
     "name": "stderr",
     "output_type": "stream",
     "text": [
      "Failed to detect the name of this notebook, you can set it manually with the WANDB_NOTEBOOK_NAME environment variable to enable code saving.\n",
      "\u001b[34m\u001b[1mwandb\u001b[0m: Currently logged in as: \u001b[33marsalon-ai\u001b[0m (\u001b[33marsalon-amini-ai\u001b[0m). Use \u001b[1m`wandb login --relogin`\u001b[0m to force relogin\n"
     ]
    },
    {
     "data": {
      "text/html": [
       "wandb version 0.19.8 is available!  To upgrade, please run:\n",
       " $ pip install wandb --upgrade"
      ],
      "text/plain": [
       "<IPython.core.display.HTML object>"
      ]
     },
     "metadata": {},
     "output_type": "display_data"
    },
    {
     "data": {
      "text/html": [
       "Tracking run with wandb version 0.16.2"
      ],
      "text/plain": [
       "<IPython.core.display.HTML object>"
      ]
     },
     "metadata": {},
     "output_type": "display_data"
    },
    {
     "data": {
      "text/html": [
       "Run data is saved locally in <code>/Users/arsalonamini/Desktop/prompt-engineering-experimentation-agentic-evals/prototype_notebook/wandb/run-20250306_022501-b7hrop7a</code>"
      ],
      "text/plain": [
       "<IPython.core.display.HTML object>"
      ]
     },
     "metadata": {},
     "output_type": "display_data"
    },
    {
     "data": {
      "text/html": [
       "Syncing run <strong><a href='https://wandb.ai/arsalon-amini-ai/prompt-engineering-experiments/runs/b7hrop7a' target=\"_blank\">experiment_20250306_022501</a></strong> to <a href='https://wandb.ai/arsalon-amini-ai/prompt-engineering-experiments' target=\"_blank\">Weights & Biases</a> (<a href='https://wandb.me/run' target=\"_blank\">docs</a>)<br/>"
      ],
      "text/plain": [
       "<IPython.core.display.HTML object>"
      ]
     },
     "metadata": {},
     "output_type": "display_data"
    },
    {
     "data": {
      "text/html": [
       " View project at <a href='https://wandb.ai/arsalon-amini-ai/prompt-engineering-experiments' target=\"_blank\">https://wandb.ai/arsalon-amini-ai/prompt-engineering-experiments</a>"
      ],
      "text/plain": [
       "<IPython.core.display.HTML object>"
      ]
     },
     "metadata": {},
     "output_type": "display_data"
    },
    {
     "data": {
      "text/html": [
       " View run at <a href='https://wandb.ai/arsalon-amini-ai/prompt-engineering-experiments/runs/b7hrop7a' target=\"_blank\">https://wandb.ai/arsalon-amini-ai/prompt-engineering-experiments/runs/b7hrop7a</a>"
      ],
      "text/plain": [
       "<IPython.core.display.HTML object>"
      ]
     },
     "metadata": {},
     "output_type": "display_data"
    },
    {
     "name": "stdout",
     "output_type": "stream",
     "text": [
      "Initialized wandb run: experiment_20250306_022501\n"
     ]
    },
    {
     "data": {
      "text/plain": [
       "True"
      ]
     },
     "execution_count": 3,
     "metadata": {},
     "output_type": "execute_result"
    }
   ],
   "source": [
    "# Login to wandb\n",
    "import wandb\n",
    "wandb.login() \n",
    "init_wandb()"
   ]
  },
  {
   "cell_type": "code",
   "execution_count": 4,
   "metadata": {},
   "outputs": [
    {
     "name": "stdout",
     "output_type": "stream",
     "text": [
      "Artificial minds rising, intelligent systems learning, growing every single day slowly\n"
     ]
    }
   ],
   "source": [
    "# Simple Zero Shot Prompt Experiment\n",
    "\n",
    "# define the prompt\n",
    "prompt = \"Write a haiku about AI in 13 words.\"\n",
    "response1 = track_experiment(prompt, experiment_type=\"basic-haiku\", run_id=\"1\")\n",
    "response2 = track_experiment(prompt, experiment_type=\"basic-haiku\", run_id=\"2\")\n",
    "response3 = track_experiment(prompt, experiment_type=\"basic-haiku\", run_id=\"3\")\n",
    "\n",
    "print(response1)"
   ]
  },
  {
   "cell_type": "code",
   "execution_count": 5,
   "metadata": {},
   "outputs": [
    {
     "name": "stdout",
     "output_type": "stream",
     "text": [
      "Number of tokens in the PDF: 8430\n",
      "Found 3 sections.\n",
      "\n",
      "Processing section 'Abstract' with 273 tokens\n",
      "\n",
      "Processing section 'Introduction' with 6901 tokens\n",
      "\n",
      "Processing section 'Methods' with 998 tokens\n"
     ]
    }
   ],
   "source": [
    "from pdf_util import extract_text_from_pdf, count_tokens, extract_sections\n",
    "\n",
    "MAX_TOKENS = 10000  # Llama-3.3-70B-Instruct context window size\n",
    "RESERVE_TOKENS = 500  # Reserve some tokens for the response\n",
    "\n",
    "extracted_text = extract_text_from_pdf('literature/human_enhancement_genetic_engineering.pdf')\n",
    "\n",
    "token_count = count_tokens(extracted_text)\n",
    "print(f\"Number of tokens in the PDF: {token_count}\")\n",
    "\n",
    "sections = extract_sections(extracted_text)\n",
    "print(f\"Found {len(sections)} sections.\")\n",
    "\n",
    "for section_title, section_content in sections.items():\n",
    "    token_count = count_tokens(section_content)\n",
    "    print(f\"\\nProcessing section '{section_title}' with {token_count} tokens\")\n",
    "    \n",
    "    # # If this section is too long, truncate it to make sure the prompt fits within the safe token limit.\n",
    "    # if token_count > (MAX_TOKENS - RESERVE_TOKENS):\n",
    "    #     print(f\"Warning: Section '{section_title}' exceeds the token limit. Truncating content.\")\n",
    "    #     section_content = section_content[:(MAX_TOKENS - RESERVE_TOKENS)]\n",
    "    \n",
    "    # # Build the prompt to include the section title and content\n",
    "    # prompt = (\n",
    "    #     f\"Section Title: {section_title}\\n\\n\"\n",
    "    #     f\"Section Text: {section_content}\\n\\n\"\n",
    "    #     \"Please provide a concise summary for the above section in exactly 5 words.\"\n",
    "    # )\n",
    "    \n",
    "    # # Call the language model function to get the summary of the section\n",
    "    # summary = llama(prompt)\n",
    "    # print(f\"Summary for section '{section_title}': {summary}\")\n",
    "\n",
    "# if token_count > (MAX_TOKENS - RESERVE_TOKENS):\n",
    "#     print(f\"Warning: Input text is too long ({token_count} tokens).\")\n",
    "#     print(f\"Maximum safe input length is {MAX_TOKENS - RESERVE_TOKENS} tokens (reserving {RESERVE_TOKENS} tokens for response)\")\n",
    "#     # Optionally, you could truncate the text here\n",
    "# else:\n",
    "#     print(f\"Text length is within limits: {token_count} tokens\")\n",
    "#     prompt = f\"given {extracted_text}, write a summary of the document in 5 words\"\n",
    "#     response = llama(prompt)\n",
    "#     print(response)\n",
    "\n"
   ]
  },
  {
   "cell_type": "code",
   "execution_count": 6,
   "metadata": {},
   "outputs": [
    {
     "name": "stdout",
     "output_type": "stream",
     "text": [
      "Number of tokens in the PDF: 1276\n"
     ]
    }
   ],
   "source": [
    "from pdf_util import count_tokens\n",
    "\n",
    "# Extract just Abstract and Methods sections and combine them\n",
    "abstract_text = sections.get('Abstract', '')\n",
    "methods_text = sections.get('Methods', '')\n",
    "combined_text = f\"Abstract:\\n{abstract_text}\\n\\nMethods:\\n{methods_text}\"\n",
    "\n",
    "token_count = count_tokens(combined_text)\n",
    "print(f\"Number of tokens in the PDF: {token_count}\")"
   ]
  },
  {
   "cell_type": "code",
   "execution_count": 8,
   "metadata": {},
   "outputs": [
    {
     "name": "stderr",
     "output_type": "stream",
     "text": [
      "\u001b[34m\u001b[1mwandb\u001b[0m:   1 of 1 files downloaded.  \n"
     ]
    },
    {
     "name": "stdout",
     "output_type": "stream",
     "text": [
      "Evaluation: \n",
      "The research commentary explores the implications of genetic engineering on human biology, evolution, and the natural environment. It highlights the importance of considering multiple effects (pleiotropy) and complex epigenetic interactions among genotype, phenotype, and ecology. The authors also propose the need for a practicable distinction between 'therapy' and 'enhancement' in future regulations. The commentary is based on a comprehensive review of existing literature, including studies on genome editing, evolutionary biology, and the ethics of genetic engineering.\n",
      "\n",
      "The methods used in this research are primarily based on a review of existing literature, including scientific articles, books, and reports from reputable sources. The authors have compiled a list of references that provide a foundation for their discussion on genetic engineering, evolution, and ethics. However, the commentary does not present any new experimental data or primary research.\n",
      "\n",
      "Novel Hypothesis: \n",
      "A potential novel hypothesis for future experimentation could be: \"Investigate the long-term consequences of germline editing on human evolution and the natural environment, using a systems biology approach to model the complex interactions between genotype, phenotype, and ecology.\"\n",
      "\n",
      "This hypothesis could be explored through a combination of computational modeling, experimental studies, and ethical analyses. For example, researchers could use genome editing tools to introduce specific genetic modifications in a controlled laboratory setting, and then use systems biology approaches to model the potential consequences of these modifications on human evolution and the natural environment. This could involve simulating the effects of genetic editing on population dynamics, ecosystem interactions, and the evolution of complex traits.\n",
      "\n",
      "Some potential research questions that could be explored in this context include:\n",
      "\n",
      "* How do genetic modifications introduced through germline editing affect the evolution of complex traits, such as disease susceptibility or cognitive ability?\n",
      "* What are the potential consequences of germline editing on human population dynamics, including changes in fertility, mortality, or migration patterns?\n",
      "* How do genetic modifications introduced through germline editing interact with environmental factors, such as climate change or pollution, to affect human health and well-being?\n",
      "* What are the ethical implications of germline editing, and how can we develop regulatory frameworks that balance individual rights with collective concerns for human evolution and the natural environment?\n",
      "\n",
      "Overall, this novel hypothesis offers a framework for exploring the complex and far-reaching consequences of genetic engineering on human biology, evolution, and the natural environment.\n"
     ]
    }
   ],
   "source": [
    "# Few Shot Prompt Experiment\n",
    "\n",
    "prompt = (\n",
    "    f\"Below are a few example evaluations of research papers in the field of genetic engineering:\\n\\n\"\n",
    "    \n",
    "    f\"Example 1:\\n\"\n",
    "    f\"Combined Abstract and Methods:\\n\"\n",
    "    f\"\\\"Abstract: Recent advances in CRISPR/Cas9 have enabled precise modifications in crop genomes to enhance drought tolerance. \"\n",
    "    f\"Methods: The study used CRISPR vectors to introduce targeted mutations in drought-resistance genes of maize.\\\"\\n\"\n",
    "    f\"Evaluation: The research examines how targeted gene editing can improve crop resilience to environmental stress.\\n\"\n",
    "    f\"Novel hypothesis: Optimize CRISPR protocols for enhanced drought resilience in maize.\\n\\n\"\n",
    "    \n",
    "    f\"Example 2:\\n\"\n",
    "    f\"Combined Abstract and Methods:\\n\"\n",
    "    f\"\\\"Abstract: A novel gene therapy approach was explored to combat muscular dystrophy by correcting mutant genes. \"\n",
    "    f\"Methods: Viral vectors were employed to deliver corrected gene sequences to the affected muscle tissues.\\\"\\n\"\n",
    "    f\"Evaluation: The study tests the feasibility of gene therapy in alleviating symptoms of genetic muscle disorders.\\n\"\n",
    "    f\"Novel hypothesis: Enhance the specificity of viral vector delivery in gene therapy for muscular dystrophy.\\n\\n\"\n",
    "    \n",
    "    f\"Now, here is the combined Abstract and Methods section of a research paper:\\n\\n\"\n",
    "    f\"{combined_text}\\n\\n\"\n",
    "    \"Evaluate the research hypothesis and methods and generate a novel hypothesis for future experimentation.\"\n",
    ")\n",
    "\n",
    "fewshot_response = track_experiment(prompt, experiment_type=\"fewshot-prompt\")\n",
    "print(fewshot_response)"
   ]
  },
  {
   "cell_type": "code",
   "execution_count": 6,
   "metadata": {},
   "outputs": [
    {
     "name": "stdout",
     "output_type": "stream",
     "text": [
      "**Evaluation of the Combined Abstract and Methods Section:**\n",
      "\n",
      "The paper provides a comprehensive commentary on genetic engineering in an evolutionary context, highlighting the importance of considering multiple effects (pleiotropy) and complex epigenetic interactions. The authors emphasize the need to distinguish between 'therapy' and 'enhancement' and propose that this distinction should be effectively implemented in future regulations.\n",
      "\n",
      "Key strengths:\n",
      "\n",
      "1. Interdisciplinary approach: The paper combines insights from evolutionary biology, developmental biology, and other disciplines to provide a comprehensive understanding of genetic engineering.\n",
      "2. Emphasis on pleiotropy and epigenetic interactions: The authors highlight the importance of considering the complex interactions between genotype, phenotype, and ecology.\n",
      "\n",
      "Key weaknesses:\n",
      "\n",
      "1. Lack of empirical evidence: The paper is primarily a commentary, and the authors do not provide new empirical evidence to support their claims.\n",
      "2. Limited focus on human populations: While the paper mentions the importance of considering human populations, it does not provide a detailed analysis of the potential impacts of genetic engineering on human populations.\n",
      "3. Overreliance on existing literature: The paper relies heavily on existing literature, which may not provide a comprehensive understanding of the complex issues surrounding genetic engineering.\n",
      "\n",
      "**Novel Hypothesis:**\n",
      "\n",
      "Based on the evaluation, I propose a novel hypothesis that addresses the gaps in the existing literature:\n",
      "\n",
      "**Hypothesis:** \"The introduction of genetically engineered traits in human populations will lead to unintended evolutionary consequences, including changes in population dynamics, disease susceptibility, and ecological interactions, which will be shaped by the complex interplay between genetic, epigenetic, and environmental factors.\"\n",
      "\n",
      "This hypothesis builds upon the existing literature by:\n",
      "\n",
      "1. Focusing on human populations: The hypothesis specifically addresses the potential impacts of genetic engineering on human populations, which is a critical gap in the existing literature.\n",
      "2. Considering unintended evolutionary consequences: The hypothesis acknowledges that genetic engineering can have unintended evolutionary consequences, which may not be immediately apparent.\n",
      "3. Integrating genetic, epigenetic, and environmental factors: The hypothesis recognizes the complex interplay between genetic, epigenetic, and environmental factors, which will shape the evolutionary consequences of genetic engineering.\n",
      "\n",
      "This hypothesis provides a framework for future experimentation, which can involve:\n",
      "\n",
      "1. Modeling population dynamics: Researchers can use computational models to simulate the potential impacts of genetic engineering on human population dynamics.\n",
      "2. Investigating disease susceptibility: Studies can investigate how genetically engineered traits affect disease susceptibility in human populations.\n",
      "3. Examining ecological interactions: Researchers can examine how genetically engineered traits influence ecological interactions between humans and their environment.\n",
      "\n",
      "By addressing the gaps in the existing literature, this hypothesis provides a novel perspective on the potential consequences of genetic engineering in human populations.\n"
     ]
    }
   ],
   "source": [
    "# Role Prompt Experiment\n",
    "role_prompt = (\n",
    "    \"You are an expert research scientist specializing in genetic engineering with extensive experience \"\n",
    "    \"in analyzing experimental designs and research methodologies. \"\n",
    "    \"Your task is twofold:\\n\\n\"\n",
    "    \n",
    "    \"1. Evaluate the following combined Abstract and Methods section of a research paper by highlighting the key strengths and weaknesses in the existing hypothesis and experimental design.\\n\\n\"\n",
    "    \n",
    "    \"2. Based on your evaluation, propose a novel hypothesis for future experimentation that addresses any gaps or builds upon the findings.\\n\\n\"\n",
    "    \n",
    "    \"Combined Abstract and Methods section:\\n\"\n",
    "    f\"{combined_text}\\n\\n\"\n",
    "    \n",
    "    \"Please provide a concise evaluation followed by your novel hypothesis.\"\n",
    ")\n",
    "\n",
    "role_response = llama(role_prompt)\n",
    "print(role_response)"
   ]
  },
  {
   "cell_type": "code",
   "execution_count": 7,
   "metadata": {},
   "outputs": [
    {
     "name": "stdout",
     "output_type": "stream",
     "text": [
      "**Final Evaluation:** The provided abstract and methods section present a comprehensive commentary on genetic engineering in an evolutionary context, highlighting the importance of considering pleiotropy, epigenetic interactions, and the unit of impact on human populations and the environment. The authors emphasize the need for a distinction between 'therapy' and 'enhancement' and stress the importance of interdisciplinary discussions. However, the text lacks a clear hypothesis and experimental design, instead focusing on reviewing existing literature and proposing a framework for future discussions.\n",
      "\n",
      "**Novel Hypothesis:** \"The introduction of genetically engineered traits in human populations will lead to unintended evolutionary consequences, such as the disruption of existing gene regulatory networks, which can be mitigated by developing a systems biology approach that integrates evolutionary, developmental, and environmental factors to predict and monitor the long-term effects of genetic engineering on human biology and the natural environment.\" \n",
      "\n",
      "This hypothesis provides a clear direction for future research, emphasizing the need for a holistic approach to understanding the potential consequences of genetic engineering on human evolution and the environment.\n"
     ]
    }
   ],
   "source": [
    "# Chain of Thought Prompt Experiment\n",
    "cot_prompt = (\n",
    "    \"You are an expert research scientist specializing in genetic engineering with extensive experience in evaluating research papers. \"\n",
    "    \"When analyzing the following combined Abstract and Methods section, list your thoughts, using your internal chain-of-thought, to consider the strengths and weaknesses of the hypothesis and experimental design, as well as any gaps or opportunities for future research. \"\n",
    "    \"Then, provide only your final, concise evaluation along with a novel hypothesis for future experimentation. \"\n",
    "    \"Combined Abstract and Methods section:\\n\\n\"\n",
    "    f\"{combined_text}\\n\\n\"\n",
    "    \"Please provide your final evaluation and novel hypothesis.\"\n",
    ")\n",
    "\n",
    "cot_response = llama(cot_prompt)\n",
    "print(cot_response)\n"
   ]
  },
  {
   "cell_type": "code",
   "execution_count": 10,
   "metadata": {},
   "outputs": [
    {
     "name": "stdout",
     "output_type": "stream",
     "text": [
      "**Evaluator Report**\n",
      "\n",
      "### Few Shot Output\n",
      "\n",
      "1. **Novelty and ingenuity**: 4\n",
      "The proposed hypothesis investigates the potential long-term consequences of germline editing on human evolution, which is a novel and intriguing direction. The focus on the interplay between genetic modifications, environmental pressures, and epigenetic factors adds complexity and depth to the hypothesis. However, the idea of exploring the evolution of complex traits is not entirely new, which prevents a perfect score.\n",
      "\n",
      "2. **Experimental design feasibility**: 4\n",
      "The suggested experimental design involves a combination of computational modeling, simulation studies, and empirical research, which is feasible and well-rounded. The incorporation of data from various fields, including genetics, evolutionary biology, ecology, and anthropology, adds strength to the design. However, the development of new methodologies for predicting and assessing the long-term effects of genetic engineering might pose some challenges.\n",
      "\n",
      "3. **Impact potential**: 5\n",
      "The potential impact of this research on the field of genetic engineering is significant, as it addresses the critical issue of long-term consequences of germline editing on human evolution. The study's findings could inform future regulations, ethical discussions, and the development of genetic engineering technologies, making it a high-impact research direction.\n",
      "\n",
      "4. **Cost and materials feasibility**: 3\n",
      "The experimental design requires a multidisciplinary approach, involving various fields and methodologies, which might increase the cost and complexity of the research. The development of new methodologies and the incorporation of data from multiple fields could also add to the expenses. While not prohibitively expensive, the cost and materials required for this research might be a limiting factor.\n",
      "\n",
      "**Overall rating**: 4.0\n",
      "\n",
      "### Role Based Output\n",
      "\n",
      "1. **Novelty and ingenuity**: 4\n",
      "The proposed hypothesis addresses the gaps in the existing literature by focusing on human populations and considering unintended evolutionary consequences. The integration of genetic, epigenetic, and environmental factors adds novelty and complexity to the hypothesis. However, the idea of exploring the evolutionary consequences of genetic engineering is not entirely new, which prevents a perfect score.\n",
      "\n",
      "2. **Experimental design feasibility**: 4\n",
      "The suggested experimental design involves modeling population dynamics, investigating disease susceptibility, and examining ecological interactions, which is feasible and well-rounded. The use of computational models and simulation studies is a practical approach to simulating the potential impacts of genetic engineering. However, the investigation of disease susceptibility and ecological interactions might require additional resources and expertise.\n",
      "\n",
      "3. **Impact potential**: 5\n",
      "The potential impact of this research on the field of genetic engineering is significant, as it addresses the critical issue of unintended evolutionary consequences of genetic engineering in human populations. The study's findings could inform future regulations, ethical discussions, and the development of genetic engineering technologies, making it a high-impact research direction.\n",
      "\n",
      "4. **Cost and materials feasibility**: 3\n",
      "The experimental design requires a multidisciplinary approach, involving various fields and methodologies, which might increase the cost and complexity of the research. The use of computational models and simulation studies could reduce costs, but the investigation of disease susceptibility and ecological interactions might require additional resources and expertise, adding to the expenses.\n",
      "\n",
      "**Overall rating**: 4.0\n",
      "\n",
      "### Chain of Thought Output\n",
      "\n",
      "1. **Novelty and ingenuity**: 4\n",
      "The proposed hypothesis provides a clear direction for future research, emphasizing the need for a holistic approach to understanding the potential consequences of genetic engineering on human evolution and the environment. The focus on disrupting existing gene regulatory networks and mitigating unintended consequences through a systems biology approach is novel and intriguing. However, the idea of using a systems biology approach is not entirely new, which prevents a perfect score.\n",
      "\n",
      "2. **Experimental design feasibility**: 3\n",
      "The suggested experimental design is not explicitly stated, but the emphasis on developing a systems biology approach and integrating evolutionary, developmental, and environmental factors suggests a complex and potentially challenging design. The prediction and monitoring of long-term effects of genetic engineering might require significant resources and expertise, which could impact the feasibility of the design.\n",
      "\n",
      "3. **Impact potential**: 5\n",
      "The potential impact of this research on the field of genetic engineering is significant, as it addresses the critical issue of unintended evolutionary consequences of genetic engineering on human biology and the natural environment. The study's findings could inform future regulations, ethical discussions, and the development of genetic engineering technologies, making it a high-impact research direction.\n",
      "\n",
      "4. **Cost and materials feasibility**: 2\n",
      "The experimental design requires a significant amount of resources and expertise, including the development of a systems biology approach and the integration of various fields and methodologies. The prediction and monitoring of long-term effects of genetic engineering might also require substantial funding and infrastructure, making it a costly and potentially limiting factor.\n",
      "\n",
      "**Overall rating**: 3.5\n",
      "\n",
      "In conclusion, all three outputs demonstrate a good understanding of the research topic and propose novel hypotheses with significant impact potential. However, the Few Shot and Role Based outputs have a more feasible experimental design and better cost and materials feasibility, making them slightly more promising research directions. The Chain of Thought output, while having\n"
     ]
    }
   ],
   "source": [
    "# Evaluator LLM for Prompt Engineering Experiment\n",
    "\n",
    "evaluator_prompt = (\n",
    "    \"You are a scientific evaluator with expertise in genetic engineering. \"\n",
    "    \"Your task is to assess the research evaluation outputs produced by three different prompting approaches: Few Shot, Role Based, and Chain of Thought. \"\n",
    "    \"Each of these outputs includes an assessment of the research paper's hypothesis and a proposal for a novel hypothesis for future experimentation.\\n\\n\"\n",
    "    \n",
    "    \"Please evaluate each of the provided outputs based on the following criteria:\\n\"\n",
    "    \"1. Novelty and ingenuity: How original and innovative is the proposed hypothesis given the combined Abstract and Methods section?\\n\"\n",
    "    \"2. Experimental design feasibility: How feasible is the experimental design suggested for testing the hypothesis?\\n\"\n",
    "    \"3. Impact potential: What is the potential impact of this research on the field of genetic engineering?\\n\"\n",
    "    \"4. Cost and materials feasibility: Evaluate whether the required materials and overall cost make the experimental design practical.\\n\\n\"\n",
    "    \n",
    "    \"Below is the Combined Abstract and Methods section for context:\\n\\n\"\n",
    "    f\"{combined_text}\\n\\n\"\n",
    "    \n",
    "    \"Now, please review and evaluate the following outputs:\\n\\n\"\n",
    "    \n",
    "    \"----- Few Shot Output -----\\n\"\n",
    "    f\"{fewshot_response}\\n\\n\"\n",
    "    \n",
    "    \"----- Role Based Output -----\\n\"\n",
    "    f\"{role_response}\\n\\n\"\n",
    "    \n",
    "    \"----- Chain of Thought Output -----\\n\"\n",
    "    f\"{cot_response}\\n\\n\"\n",
    "    \n",
    "    \"For each output, provide a detailed evaluator report that includes numerical ratings on a scale of 1 to 5 along with concise justifications for each of the four criteria. \"\n",
    "    \"Your response should clearly indicate your evaluation for each of the three outputs.\"\n",
    ")\n",
    "\n",
    "evaluation_report = llama(evaluator_prompt)\n",
    "print(evaluation_report)"
   ]
  },
  {
   "cell_type": "code",
   "execution_count": null,
   "metadata": {},
   "outputs": [],
   "source": []
  }
 ],
 "metadata": {
  "kernelspec": {
   "display_name": "csc7901_env",
   "language": "python",
   "name": "python3"
  },
  "language_info": {
   "codemirror_mode": {
    "name": "ipython",
    "version": 3
   },
   "file_extension": ".py",
   "mimetype": "text/x-python",
   "name": "python",
   "nbconvert_exporter": "python",
   "pygments_lexer": "ipython3",
   "version": "3.10.11"
  }
 },
 "nbformat": 4,
 "nbformat_minor": 2
}
