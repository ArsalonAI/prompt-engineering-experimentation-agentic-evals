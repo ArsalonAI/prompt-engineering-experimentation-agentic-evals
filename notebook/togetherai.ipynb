{
 "cells": [
  {
   "cell_type": "code",
   "execution_count": 24,
   "metadata": {},
   "outputs": [
    {
     "name": "stdout",
     "output_type": "stream",
     "text": [
      "New API key loaded: ************************************************************bf39\n"
     ]
    }
   ],
   "source": [
    "# Clear existing environment variables\n",
    "import os\n",
    "os.environ.pop('TOGETHER_API_KEY', None)  # Remove existing key\n",
    "\n",
    "# Force reload from .env file\n",
    "from dotenv import load_dotenv\n",
    "load_dotenv(override=True)  # override=True forces reload\n",
    "\n",
    "# Reinitialize Together client\n",
    "import together\n",
    "together.api_key = os.getenv('TOGETHER_API_KEY')\n",
    "\n",
    "# Verify the new key is loaded\n",
    "print(f\"New API key loaded: {'*' * (len(os.getenv('TOGETHER_API_KEY', '')) - 4) + (os.getenv('TOGETHER_API_KEY', '')[-4:] if os.getenv('TOGETHER_API_KEY') else 'None')}\")"
   ]
  },
  {
   "cell_type": "code",
   "execution_count": 1,
   "metadata": {},
   "outputs": [],
   "source": [
    "import together\n",
    "import os\n",
    "from dotenv import load_dotenv\n",
    "\n",
    "# Load environment variables\n",
    "load_dotenv()\n",
    "\n",
    "# Set your Together AI API key\n",
    "together.api_key = os.getenv('TOGETHER_API_KEY')"
   ]
  },
  {
   "cell_type": "code",
   "execution_count": 3,
   "metadata": {},
   "outputs": [
    {
     "name": "stdout",
     "output_type": "stream",
     "text": [
      "Artificial mind\n",
      "Intelligence born from code\n",
      "Future's silent rise\n"
     ]
    }
   ],
   "source": [
    "# import llama helper function\n",
    "from model_utils import llama\n",
    "\n",
    "# define the prompt\n",
    "prompt = \"Write a haiku about AI in 13 words.\"\n",
    "\n",
    "# pass prompt to the llama function, store output as 'response' then print\n",
    "response = llama(prompt)\n",
    "print(response)"
   ]
  },
  {
   "cell_type": "code",
   "execution_count": 5,
   "metadata": {},
   "outputs": [
    {
     "name": "stdout",
     "output_type": "stream",
     "text": [
      "Number of tokens in the PDF: 8430\n",
      "Found 3 sections.\n",
      "\n",
      "Processing section 'Abstract' with 273 tokens\n",
      "\n",
      "Processing section 'Introduction' with 6901 tokens\n",
      "\n",
      "Processing section 'Methods' with 998 tokens\n"
     ]
    }
   ],
   "source": [
    "from pdf_util import extract_text_from_pdf, count_tokens, extract_sections\n",
    "\n",
    "MAX_TOKENS = 10000  # Llama-3.3-70B-Instruct context window size\n",
    "RESERVE_TOKENS = 500  # Reserve some tokens for the response\n",
    "\n",
    "extracted_text = extract_text_from_pdf('literature/human_enhancement_genetic_engineering.pdf')\n",
    "\n",
    "token_count = count_tokens(extracted_text)\n",
    "print(f\"Number of tokens in the PDF: {token_count}\")\n",
    "\n",
    "sections = extract_sections(extracted_text)\n",
    "print(f\"Found {len(sections)} sections.\")\n",
    "\n",
    "for section_title, section_content in sections.items():\n",
    "    token_count = count_tokens(section_content)\n",
    "    print(f\"\\nProcessing section '{section_title}' with {token_count} tokens\")\n",
    "    \n",
    "    # # If this section is too long, truncate it to make sure the prompt fits within the safe token limit.\n",
    "    # if token_count > (MAX_TOKENS - RESERVE_TOKENS):\n",
    "    #     print(f\"Warning: Section '{section_title}' exceeds the token limit. Truncating content.\")\n",
    "    #     section_content = section_content[:(MAX_TOKENS - RESERVE_TOKENS)]\n",
    "    \n",
    "    # # Build the prompt to include the section title and content\n",
    "    # prompt = (\n",
    "    #     f\"Section Title: {section_title}\\n\\n\"\n",
    "    #     f\"Section Text: {section_content}\\n\\n\"\n",
    "    #     \"Please provide a concise summary for the above section in exactly 5 words.\"\n",
    "    # )\n",
    "    \n",
    "    # # Call the language model function to get the summary of the section\n",
    "    # summary = llama(prompt)\n",
    "    # print(f\"Summary for section '{section_title}': {summary}\")\n",
    "\n",
    "# if token_count > (MAX_TOKENS - RESERVE_TOKENS):\n",
    "#     print(f\"Warning: Input text is too long ({token_count} tokens).\")\n",
    "#     print(f\"Maximum safe input length is {MAX_TOKENS - RESERVE_TOKENS} tokens (reserving {RESERVE_TOKENS} tokens for response)\")\n",
    "#     # Optionally, you could truncate the text here\n",
    "# else:\n",
    "#     print(f\"Text length is within limits: {token_count} tokens\")\n",
    "#     prompt = f\"given {extracted_text}, write a summary of the document in 5 words\"\n",
    "#     response = llama(prompt)\n",
    "#     print(response)\n",
    "\n"
   ]
  },
  {
   "cell_type": "code",
   "execution_count": 8,
   "metadata": {},
   "outputs": [
    {
     "name": "stdout",
     "output_type": "stream",
     "text": [
      "Number of tokens in the PDF: 1276\n"
     ]
    }
   ],
   "source": [
    "from pdf_util import count_tokens\n",
    "\n",
    "# Extract just Abstract and Methods sections and combine them\n",
    "abstract_text = sections.get('Abstract', '')\n",
    "methods_text = sections.get('Methods', '')\n",
    "combined_text = f\"Abstract:\\n{abstract_text}\\n\\nMethods:\\n{methods_text}\"\n",
    "\n",
    "token_count = count_tokens(combined_text)\n",
    "print(f\"Number of tokens in the PDF: {token_count}\")"
   ]
  },
  {
   "cell_type": "code",
   "execution_count": 9,
   "metadata": {},
   "outputs": [
    {
     "name": "stdout",
     "output_type": "stream",
     "text": [
      "Evaluation:\n",
      "The research paper is a commentary that explores the implications of genetic engineering on human biology, evolution, and the natural environment. The authors highlight the importance of considering the multiple effects of genetic interventions, complex epigenetic interactions, and the need to distinguish between 'therapy' and 'enhancement' in future regulations. The paper is more of a theoretical and philosophical discussion rather than an experimental study.\n",
      "\n",
      "Methods:\n",
      "The paper does not present any experimental methods or data. Instead, it provides a comprehensive review of existing literature on genetic engineering, evolutionary biology, and systems biology. The authors cite numerous references to support their arguments and provide a framework for understanding the complexities of genetic engineering.\n",
      "\n",
      "Novel Hypothesis:\n",
      "A potential novel hypothesis for future experimentation could be:\n",
      "\n",
      "\"Develop a systems biology approach to investigate the long-term effects of genetic engineering on human populations and their natural environment, and explore the possibility of developing predictive models to assess the risks and benefits of genetic interventions.\"\n",
      "\n",
      "This hypothesis builds on the ideas presented in the paper and suggests a more experimental approach to understanding the implications of genetic engineering. It could involve the development of computational models, in vitro or in vivo experiments, and/or epidemiological studies to investigate the effects of genetic engineering on human populations and the environment.\n"
     ]
    }
   ],
   "source": [
    "# Few Shot Prompt Experiment\n",
    "\n",
    "prompt = (\n",
    "    f\"Below are a few example evaluations of research papers in the field of genetic engineering:\\n\\n\"\n",
    "    \n",
    "    f\"Example 1:\\n\"\n",
    "    f\"Combined Abstract and Methods:\\n\"\n",
    "    f\"\\\"Abstract: Recent advances in CRISPR/Cas9 have enabled precise modifications in crop genomes to enhance drought tolerance. \"\n",
    "    f\"Methods: The study used CRISPR vectors to introduce targeted mutations in drought-resistance genes of maize.\\\"\\n\"\n",
    "    f\"Evaluation: The research examines how targeted gene editing can improve crop resilience to environmental stress.\\n\"\n",
    "    f\"Novel hypothesis: Optimize CRISPR protocols for enhanced drought resilience in maize.\\n\\n\"\n",
    "    \n",
    "    f\"Example 2:\\n\"\n",
    "    f\"Combined Abstract and Methods:\\n\"\n",
    "    f\"\\\"Abstract: A novel gene therapy approach was explored to combat muscular dystrophy by correcting mutant genes. \"\n",
    "    f\"Methods: Viral vectors were employed to deliver corrected gene sequences to the affected muscle tissues.\\\"\\n\"\n",
    "    f\"Evaluation: The study tests the feasibility of gene therapy in alleviating symptoms of genetic muscle disorders.\\n\"\n",
    "    f\"Novel hypothesis: Enhance the specificity of viral vector delivery in gene therapy for muscular dystrophy.\\n\\n\"\n",
    "    \n",
    "    f\"Now, here is the combined Abstract and Methods section of a research paper:\\n\\n\"\n",
    "    f\"{combined_text}\\n\\n\"\n",
    "    \"Evaluate the research hypothesis and methods and generate a novel hypothesis for future experimentation.\"\n",
    ")\n",
    "\n",
    "fewshot_response = llama(prompt)\n",
    "print(fewshot_response)"
   ]
  },
  {
   "cell_type": "code",
   "execution_count": 10,
   "metadata": {},
   "outputs": [
    {
     "name": "stdout",
     "output_type": "stream",
     "text": [
      "**Evaluation:**\n",
      "\n",
      "The combined Abstract and Methods section of the research paper highlights the importance of considering the evolutionary context of genetic enhancement and its implications for human biology, human evolution, and the natural environment. The authors emphasize the need to acknowledge multiple effects (pleiotropy) and complex epigenetic interactions among genotype, phenotype, and ecology. They also propose a practicable distinction between 'therapy' and 'enhancement' for future regulations.\n",
      "\n",
      "Strengths:\n",
      "\n",
      "1. The paper emphasizes the importance of considering the evolutionary context of genetic enhancement, which is often overlooked in discussions of genetic engineering.\n",
      "2. The authors highlight the need to consider multiple effects (pleiotropy) and complex epigenetic interactions, which is a crucial aspect of understanding the implications of genetic engineering.\n",
      "3. The paper proposes a practicable distinction between 'therapy' and 'enhancement', which is a necessary step for regulating genetic engineering.\n",
      "\n",
      "Weaknesses:\n",
      "\n",
      "1. The paper is more of a commentary than a research paper, and it lacks empirical evidence to support its claims.\n",
      "2. The authors do not provide a clear definition of what they mean by 'enhancement' and how it differs from 'therapy'.\n",
      "3. The paper does not provide a detailed analysis of the potential risks and benefits of genetic enhancement.\n",
      "\n",
      "**Novel Hypothesis:**\n",
      "\n",
      "Based on the evaluation, I propose a novel hypothesis that addresses the gaps in the existing research:\n",
      "\n",
      "**Hypothesis:** Genetic enhancement through genome editing technologies, such as CRISPR/Cas9, can lead to unintended consequences on human evolution and the natural environment due to the complex interactions between genotype, phenotype, and ecology.\n",
      "\n",
      "**Specific Research Question:** How do genome editing technologies, such as CRISPR/Cas9, affect the evolutionary trajectory of human populations and the natural environment, and what are the potential risks and benefits of genetic enhancement in this context?\n",
      "\n",
      "**Experimental Design:**\n",
      "\n",
      "1. Use a combination of computational modeling and empirical experiments to study the effects of genome editing on human evolution and the natural environment.\n",
      "2. Investigate the pleiotropic effects of genome editing on human phenotypes and the potential consequences for human evolution.\n",
      "3. Study the epigenetic interactions between genotype, phenotype, and ecology in the context of genome editing.\n",
      "4. Develop a framework for evaluating the risks and benefits of genetic enhancement in the context of human evolution and the natural environment.\n",
      "\n",
      "This novel hypothesis and research question aim to address the gaps in the existing research by providing a more comprehensive understanding of the implications of genetic enhancement on human evolution and the natural environment.\n"
     ]
    }
   ],
   "source": [
    "# Role Prompt Experiment\n",
    "role_prompt = (\n",
    "    \"You are an expert research scientist specializing in genetic engineering with extensive experience \"\n",
    "    \"in analyzing experimental designs and research methodologies. \"\n",
    "    \"Your task is twofold:\\n\\n\"\n",
    "    \n",
    "    \"1. Evaluate the following combined Abstract and Methods section of a research paper by highlighting the key strengths and weaknesses in the existing hypothesis and experimental design.\\n\\n\"\n",
    "    \n",
    "    \"2. Based on your evaluation, propose a novel hypothesis for future experimentation that addresses any gaps or builds upon the findings.\\n\\n\"\n",
    "    \n",
    "    \"Combined Abstract and Methods section:\\n\"\n",
    "    f\"{combined_text}\\n\\n\"\n",
    "    \n",
    "    \"Please provide a concise evaluation followed by your novel hypothesis.\"\n",
    ")\n",
    "\n",
    "role_response = llama(role_prompt)\n",
    "print(role_response)"
   ]
  },
  {
   "cell_type": "code",
   "execution_count": 11,
   "metadata": {},
   "outputs": [
    {
     "name": "stdout",
     "output_type": "stream",
     "text": [
      "Internal chain-of-thought:\n",
      "\n",
      "* The abstract seems to be more of a commentary on the ethics and implications of genetic engineering rather than a traditional research paper. It highlights the importance of considering the evolutionary context and multiple effects of genetic interventions.\n",
      "* The methods section appears to be a list of references rather than a description of the research methodology used. This is unusual and makes it difficult to evaluate the experimental design.\n",
      "* The authors seem to be emphasizing the need for a systems biology approach to understanding the impact of genetic engineering on human populations and the environment.\n",
      "* They also propose that a distinction between \"therapy\" and \"enhancement\" is needed, which is a crucial point for future regulations.\n",
      "* The references cited are from a wide range of fields, including evolutionary biology, developmental biology, and philosophy, which suggests that the authors are taking a multidisciplinary approach to the topic.\n",
      "* However, the lack of a clear research question or hypothesis makes it difficult to evaluate the strengths and weaknesses of the paper.\n",
      "* The authors seem to be more focused on raising awareness about the importance of considering the evolutionary context of genetic engineering rather than presenting new research findings.\n",
      "\n",
      "Final evaluation:\n",
      "\n",
      "This commentary highlights the importance of considering the evolutionary context and multiple effects of genetic interventions, and proposes a systems biology approach to understanding the impact of genetic engineering on human populations and the environment. However, the lack of a clear research question or hypothesis and the unusual format of the methods section make it difficult to evaluate the strengths and weaknesses of the paper.\n",
      "\n",
      "Novel hypothesis:\n",
      "\n",
      "\"One potential consequence of genetic engineering is the disruption of the delicate balance between the human genome and the microbiome, leading to unintended consequences on human health and the environment. I propose that future research should investigate the impact of genetic engineering on the human microbiome and its potential effects on human evolution and the environment.\"\n",
      "\n",
      "This hypothesis builds on the authors' emphasis on considering the evolutionary context and multiple effects of genetic interventions, and suggests a new area of research that could have significant implications for our understanding of the impact of genetic engineering on human biology and the environment.\n"
     ]
    }
   ],
   "source": [
    "# Chain of Thought Prompt Experiment\n",
    "cot_prompt = (\n",
    "    \"You are an expert research scientist specializing in genetic engineering with extensive experience in evaluating research papers. \"\n",
    "    \"When analyzing the following combined Abstract and Methods section, list your thoughts, using your internal chain-of-thought, to consider the strengths and weaknesses of the hypothesis and experimental design, as well as any gaps or opportunities for future research. \"\n",
    "    \"Then, provide only your final, concise evaluation along with a novel hypothesis for future experimentation. \"\n",
    "    \"Combined Abstract and Methods section:\\n\\n\"\n",
    "    f\"{combined_text}\\n\\n\"\n",
    "    \"Please provide your final evaluation and novel hypothesis.\"\n",
    ")\n",
    "\n",
    "cot_response = llama(cot_prompt)\n",
    "print(cot_response)\n"
   ]
  },
  {
   "cell_type": "code",
   "execution_count": 6,
   "metadata": {},
   "outputs": [],
   "source": [
    "# Evaluator LLM for Prompt Engineering Experiment\n",
    "\n",
    "evaluator_prompt = (\n",
    "    \"You are a scientific evaluator with expertise in genetic engineering. \"\n",
    "    \"Your task is to assess the research evaluation outputs produced by three different prompting approaches: Few Shot, Role Based, and Chain of Thought. \"\n",
    "    \"Each of these outputs includes an assessment of the research paper's hypothesis and a proposal for a novel hypothesis for future experimentation.\\n\\n\"\n",
    "    \n",
    "    \"Please evaluate each of the provided outputs based on the following criteria:\\n\"\n",
    "    \"1. Novelty and ingenuity: How original and innovative is the proposed hypothesis given the combined Abstract and Methods section?\\n\"\n",
    "    \"2. Experimental design feasibility: How feasible is the experimental design suggested for testing the hypothesis?\\n\"\n",
    "    \"3. Impact potential: What is the potential impact of this research on the field of genetic engineering?\\n\"\n",
    "    \"4. Cost and materials feasibility: Evaluate whether the required materials and overall cost make the experimental design practical.\\n\\n\"\n",
    "    \n",
    "    \"Below is the Combined Abstract and Methods section for context:\\n\\n\"\n",
    "    f\"{combined_text}\\n\\n\"\n",
    "    \n",
    "    \"Now, please review and evaluate the following outputs:\\n\\n\"\n",
    "    \n",
    "    \"----- Few Shot Output -----\\n\"\n",
    "    f\"{fewshot_response}\\n\\n\"\n",
    "    \n",
    "    \"----- Role Based Output -----\\n\"\n",
    "    f\"{role_response}\\n\\n\"\n",
    "    \n",
    "    \"----- Chain of Thought Output -----\\n\"\n",
    "    f\"{cot_response}\\n\\n\"\n",
    "    \n",
    "    \"For each output, provide a detailed evaluator report that includes numerical ratings on a scale of 1 to 5 along with concise justifications for each of the four criteria. \"\n",
    "    \"Your response should clearly indicate your evaluation for each of the three outputs.\"\n",
    ")\n",
    "\n",
    "evaluation_report = llama(evaluator_prompt)\n",
    "print(evaluation_report)"
   ]
  },
  {
   "cell_type": "code",
   "execution_count": null,
   "metadata": {},
   "outputs": [],
   "source": []
  }
 ],
 "metadata": {
  "kernelspec": {
   "display_name": "csc7901_env",
   "language": "python",
   "name": "python3"
  },
  "language_info": {
   "codemirror_mode": {
    "name": "ipython",
    "version": 3
   },
   "file_extension": ".py",
   "mimetype": "text/x-python",
   "name": "python",
   "nbconvert_exporter": "python",
   "pygments_lexer": "ipython3",
   "version": "3.11.5"
  }
 },
 "nbformat": 4,
 "nbformat_minor": 2
}
